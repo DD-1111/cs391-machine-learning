{
 "cells": [
  {
   "cell_type": "code",
   "execution_count": 7,
   "outputs": [],
   "source": [
    "import numpy as np\n",
    "import random\n",
    "import matplotlib.pyplot as plt\n",
    "\n"
   ],
   "metadata": {
    "collapsed": false,
    "pycharm": {
     "name": "#%%\n"
    }
   }
  },
  {
   "cell_type": "code",
   "execution_count": 8,
   "outputs": [],
   "source": [
    "BOARD_ROWS = 6\n",
    "BOARD_COLS = 25\n",
    "\n",
    "R_obs = -1\n",
    "R_lit = 1\n",
    "\n",
    "def generateBoard(module):\n",
    "        board = np.zeros([BOARD_ROWS, BOARD_COLS])\n",
    "\n",
    "        # SIDEWALK\n",
    "        if module == 0:\n",
    "            # distination\n",
    "            board[1:BOARD_ROWS-1,BOARD_COLS-1] = 1\n",
    "            # not sidewalk\n",
    "            board[0,:] = -1\n",
    "            board[BOARD_ROWS-1,:] = -1\n",
    "\n",
    "        n = BOARD_ROWS*BOARD_COLS\n",
    "        obj_pos = [x for x in random.sample(range(n), int(0.4*n))]\n",
    "        m = int(len(obj_pos)/2)\n",
    "\n",
    "        # OBSTACLES\n",
    "        if module == 1:\n",
    "            obs_pos = obj_pos[0:m]\n",
    "            for pos in obs_pos:\n",
    "                # no obstacles or litter on first or last columns\n",
    "                if (pos%BOARD_COLS != 0) and (pos%BOARD_COLS != BOARD_COLS-1):\n",
    "                    board[pos//BOARD_COLS][pos%BOARD_COLS] = R_obs\n",
    "\n",
    "        # LITTER\n",
    "        if module == 2:\n",
    "            lit_pos = obj_pos[m+1:]\n",
    "            for pos in lit_pos:\n",
    "                # no obstacles or litter on first or last columns\n",
    "                if (pos%BOARD_COLS != 0) and (pos%BOARD_COLS != BOARD_COLS-1):\n",
    "                    board[pos//BOARD_COLS][pos%BOARD_COLS] = R_lit\n",
    "\n",
    "        return board"
   ],
   "metadata": {
    "collapsed": false,
    "pycharm": {
     "name": "#%%\n"
    }
   }
  },
  {
   "cell_type": "code",
   "execution_count": 9,
   "outputs": [
    {
     "data": {
      "text/plain": "array([[ 0.,  0., -1.,  0., -1.,  0.,  0.,  0.,  0.,  0., -1.,  0.,  0.,\n         0.,  0.,  0.,  0.,  0.,  0.,  0.,  0.,  0.,  0., -1.,  0.],\n       [ 0.,  0.,  0.,  0.,  0.,  0.,  0.,  0.,  0.,  0.,  0.,  0.,  0.,\n         0.,  0.,  0.,  0.,  0.,  0.,  0.,  0.,  0.,  0.,  0.,  0.],\n       [ 0.,  0.,  0.,  0.,  0.,  0., -1., -1.,  0.,  0., -1., -1.,  0.,\n         0.,  0.,  0.,  0.,  0.,  0., -1.,  0., -1.,  0.,  0.,  0.],\n       [ 0.,  0.,  0.,  0.,  0.,  0.,  0.,  0.,  0.,  0.,  0.,  0.,  0.,\n         0., -1.,  0., -1., -1.,  0.,  0.,  0.,  0., -1.,  0.,  0.],\n       [ 0., -1.,  0.,  0.,  0.,  0.,  0.,  0.,  0.,  0.,  0., -1., -1.,\n         0., -1.,  0.,  0.,  0.,  0.,  0., -1., -1.,  0.,  0.,  0.],\n       [ 0.,  0.,  0.,  0., -1.,  0.,  0.,  0.,  0.,  0.,  0.,  0., -1.,\n         0., -1.,  0.,  0.,  0.,  0., -1.,  0.,  0.,  0.,  0.,  0.]])"
     },
     "execution_count": 9,
     "metadata": {},
     "output_type": "execute_result"
    }
   ],
   "source": [
    "generateBoard(1)"
   ],
   "metadata": {
    "collapsed": false,
    "pycharm": {
     "name": "#%%\n"
    }
   }
  }
 ],
 "metadata": {
  "kernelspec": {
   "display_name": "Python 3",
   "language": "python",
   "name": "python3"
  },
  "language_info": {
   "codemirror_mode": {
    "name": "ipython",
    "version": 2
   },
   "file_extension": ".py",
   "mimetype": "text/x-python",
   "name": "python",
   "nbconvert_exporter": "python",
   "pygments_lexer": "ipython2",
   "version": "2.7.6"
  }
 },
 "nbformat": 4,
 "nbformat_minor": 0
}